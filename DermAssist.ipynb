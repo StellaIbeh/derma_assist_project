{
  "cells": [
    {
      "cell_type": "markdown",
      "metadata": {
        "id": "view-in-github",
        "colab_type": "text"
      },
      "source": [
        "<a href=\"https://colab.research.google.com/github/StellaIbeh/derma_assist_project/blob/main/DermAssist.ipynb\" target=\"_parent\"><img src=\"https://colab.research.google.com/assets/colab-badge.svg\" alt=\"Open In Colab\"/></a>"
      ]
    },
    {
      "source": [
        "# Install kagglehub (quietly)\n",
        "!pip install kagglehub --quiet\n",
        "\n",
        "# Import kagglehub and download the dataset\n",
        "import kagglehub\n",
        "\n",
        "# This will download and extract the dataset into a local Colab path\n",
        "# Corrected the function name from download_dataset to dataset_download\n",
        "dataset_path = kagglehub.dataset_download(\"muhammadabdulsami/massive-skin-disease-balanced-dataset\")\n",
        "\n",
        "# Verify the contents\n",
        "import os\n",
        "print(\"Dataset downloaded to:\", dataset_path)\n",
        "print(\"Top-level contents:\", os.listdir(dataset_path))"
      ],
      "cell_type": "code",
      "metadata": {
        "colab": {
          "base_uri": "https://localhost:8080/"
        },
        "id": "jlDDIjcXWNnL",
        "outputId": "00307cde-d45e-41ac-d13b-3cff123b3752"
      },
      "execution_count": 9,
      "outputs": [
        {
          "output_type": "stream",
          "name": "stdout",
          "text": [
            "Dataset downloaded to: /kaggle/input/massive-skin-disease-balanced-dataset\n",
            "Top-level contents: ['balanced_dataset.csv', 'balanced_dataset']\n"
          ]
        }
      ]
    },
    {
      "source": [
        "import torch\n",
        "import torchvision.transforms as transforms\n",
        "import torchvision.datasets as datasets\n",
        "from torch.utils.data import DataLoader, random_split\n",
        "import matplotlib.pyplot as plt\n",
        "\n",
        "# Use the dataset_path from kagglehub.dataset_download\n",
        "dataset_path = kagglehub.dataset_download(\"muhammadabdulsami/massive-skin-disease-balanced-dataset\")\n",
        "\n",
        " # Remove or comment out this line\n",
        "\n",
        "#  image transformations\n",
        "transform = transforms.Compose([\n",
        "    transforms.Resize((150, 150)),  # Resize images\n",
        "    transforms.ToTensor(),          # Convert to PyTorch tensors\n",
        "])\n",
        "\n",
        "# Load dataset (ImageFolder automatically assigns labels based on subfolders)\n",
        "# Use the dataset_path variable that holds the correct path to the downloaded dataset\n",
        "dataset = datasets.ImageFolder(root=dataset_path, transform=transform)"
      ],
      "cell_type": "code",
      "metadata": {
        "id": "ObwE3yfWxNBN"
      },
      "execution_count": 21,
      "outputs": []
    },
    {
      "cell_type": "code",
      "source": [
        "train_size = int(0.8 * len(dataset))\n",
        "val_size = len(dataset) - train_size\n",
        "train_dataset, val_dataset = random_split(dataset, [train_size, val_size])"
      ],
      "metadata": {
        "id": "NUblsqnkxV5b"
      },
      "execution_count": 22,
      "outputs": []
    },
    {
      "source": [
        "import os\n",
        "\n",
        "# Where your kagglehub download landed\n",
        "dataset_path = kagglehub.dataset_download(\"muhammadabdulsami/massive-skin-disease-balanced-dataset\")\n",
        "\n",
        "# List all folders (each is a disease class) by filtering for directories\n",
        "# Added a check to ensure only directories are included in all_classes\n",
        "all_classes = sorted([d for d in os.listdir(dataset_path) if os.path.isdir(os.path.join(dataset_path, d))])\n",
        "print(\"All classes:\", all_classes)\n",
        "\n",
        "# Count how many images per class\n",
        "# This line remains the same as it now iterates over the filtered list of directories\n",
        "counts = {cls: len(os.listdir(os.path.join(dataset_path, cls)))\n",
        "          for cls in all_classes}\n",
        "print(\"Image counts per class:\", counts)"
      ],
      "cell_type": "code",
      "metadata": {
        "colab": {
          "base_uri": "https://localhost:8080/"
        },
        "id": "sRHaprh8zdck",
        "outputId": "2c4aa364-cd0a-4ce7-f684-107bf34a205b"
      },
      "execution_count": 24,
      "outputs": [
        {
          "output_type": "stream",
          "name": "stdout",
          "text": [
            "All classes: ['balanced_dataset']\n",
            "Image counts per class: {'balanced_dataset': 1}\n"
          ]
        }
      ]
    },
    {
      "source": [
        "# Check the number of samples in the dataset\n",
        "print(\"Number of samples in the dataset:\", len(dataset))\n",
        "\n",
        "# If you want to see the shape of a single image after transformation:\n",
        "# Assuming dataset is not empty, get the first image and its label\n",
        "# first_image, first_label = dataset[0]\n",
        "# print(\"Shape of the first image:\", first_image.shape)"
      ],
      "cell_type": "code",
      "metadata": {
        "colab": {
          "base_uri": "https://localhost:8080/"
        },
        "id": "8UKzqMbB5ILW",
        "outputId": "29bf2776-3216-42e6-a28f-1eebed2ff8fb"
      },
      "execution_count": 33,
      "outputs": [
        {
          "output_type": "stream",
          "name": "stdout",
          "text": [
            "Number of samples in the dataset: 262874\n"
          ]
        }
      ]
    },
    {
      "cell_type": "code",
      "source": [
        "#list the name of classes\n",
        "print(\"Classes:\", dataset.classes)\n",
        "print(balanced_dataset)"
      ],
      "metadata": {
        "colab": {
          "base_uri": "https://localhost:8080/",
          "height": 193
        },
        "id": "DwfR3o4Y5CC2",
        "outputId": "e1398501-9de4-45c6-d0e0-4ed6bcdc9132"
      },
      "execution_count": 49,
      "outputs": [
        {
          "output_type": "stream",
          "name": "stdout",
          "text": [
            "Classes: ['balanced_dataset']\n"
          ]
        },
        {
          "output_type": "error",
          "ename": "NameError",
          "evalue": "name 'balanced_dataset' is not defined",
          "traceback": [
            "\u001b[0;31m---------------------------------------------------------------------------\u001b[0m",
            "\u001b[0;31mNameError\u001b[0m                                 Traceback (most recent call last)",
            "\u001b[0;32m<ipython-input-49-745f6656506e>\u001b[0m in \u001b[0;36m<cell line: 0>\u001b[0;34m()\u001b[0m\n\u001b[1;32m      1\u001b[0m \u001b[0;31m#list the name of classes\u001b[0m\u001b[0;34m\u001b[0m\u001b[0;34m\u001b[0m\u001b[0m\n\u001b[1;32m      2\u001b[0m \u001b[0mprint\u001b[0m\u001b[0;34m(\u001b[0m\u001b[0;34m\"Classes:\"\u001b[0m\u001b[0;34m,\u001b[0m \u001b[0mdataset\u001b[0m\u001b[0;34m.\u001b[0m\u001b[0mclasses\u001b[0m\u001b[0;34m)\u001b[0m\u001b[0;34m\u001b[0m\u001b[0;34m\u001b[0m\u001b[0m\n\u001b[0;32m----> 3\u001b[0;31m \u001b[0mprint\u001b[0m\u001b[0;34m(\u001b[0m\u001b[0mbalanced_dataset\u001b[0m\u001b[0;34m)\u001b[0m\u001b[0;34m\u001b[0m\u001b[0;34m\u001b[0m\u001b[0m\n\u001b[0m",
            "\u001b[0;31mNameError\u001b[0m: name 'balanced_dataset' is not defined"
          ]
        }
      ]
    },
    {
      "source": [
        "#list the name of classes\n",
        "print(\"Classes:\", dataset.classes)\n",
        "# Remove or comment out the line below as balanced_dataset is not defined\n",
        "# print(balanced_dataset)"
      ],
      "cell_type": "code",
      "metadata": {
        "colab": {
          "base_uri": "https://localhost:8080/"
        },
        "id": "B_1CKMgZ8P8o",
        "outputId": "2356a166-b95b-4cd6-97d9-6f31e94d033d"
      },
      "execution_count": 50,
      "outputs": [
        {
          "output_type": "stream",
          "name": "stdout",
          "text": [
            "Classes: ['balanced_dataset']\n"
          ]
        }
      ]
    },
    {
      "cell_type": "code",
      "source": [],
      "metadata": {
        "id": "GXOjCK685X8U"
      },
      "execution_count": null,
      "outputs": []
    },
    {
      "source": [
        "# Example: Create a DataLoader (assuming batch_size is defined)\n",
        "# Define batch_size, for example:\n",
        "batch_size = 32\n",
        "train_loader = DataLoader(train_dataset, batch_size=batch_size, shuffle=True)\n",
        "\n",
        "# Iterate over the DataLoader to get a batch of data\n",
        "for images, labels in train_loader:\n",
        "    # Check the shape of the images batch\n",
        "    print(\"Shape of the image batch:\", images.shape)\n",
        "    # Break after the first batch if you just want to see the shape\n",
        "    break"
      ],
      "cell_type": "code",
      "metadata": {
        "id": "yCpYqCmU75Uu"
      },
      "execution_count": null,
      "outputs": []
    },
    {
      "source": [
        "# Check the number of samples in the dataset instead of accessing 'data.shape'\n",
        "print(\"Number of samples in the dataset:\", len(dataset))\n",
        "# Check the number of samples in the dataset instead of accessing 'data.shape'\n",
        "print(\"Number of samples in the dataset:\", len(dataset))\n",
        "\n",
        "# If you want to see the shape of a single image after transformation:\n",
        "# Assuming dataset is not empty, get the first image and its label\n",
        "first_image, first_label = dataset[0]\n",
        "print(\"Shape of the first image:\", first_image.shape)"
      ],
      "cell_type": "code",
      "metadata": {
        "colab": {
          "base_uri": "https://localhost:8080/"
        },
        "id": "d3j68cm07Abc",
        "outputId": "8472c069-cc31-4db2-e5b0-a06be736e69b"
      },
      "execution_count": 40,
      "outputs": [
        {
          "output_type": "stream",
          "name": "stdout",
          "text": [
            "Number of samples in the dataset: 262874\n",
            "Number of samples in the dataset: 262874\n",
            "Shape of the first image: torch.Size([3, 150, 150])\n"
          ]
        }
      ]
    },
    {
      "cell_type": "code",
      "source": [
        "from collections import Counter\n",
        "import matplotlib.pyplot as plt\n",
        "\n",
        "# If using ImageFolder\n",
        "class_counts = Counter([lbl for _, lbl in full_train.samples])\n",
        "idx_to_class = {v: k for k, v in full_train.class_to_idx.items()}\n",
        "labels = [idx_to_class[idx] for idx in class_counts.keys()]\n",
        "counts = list(class_counts.values())\n",
        "\n",
        "plt.figure(figsize=(10,4))\n",
        "plt.bar(labels, counts)\n",
        "plt.title(\"Class Distribution (Train set)\")\n",
        "plt.xticks(rotation=45)\n",
        "plt.ylabel(\"Image Count\")\n",
        "plt.show()"
      ],
      "metadata": {
        "colab": {
          "base_uri": "https://localhost:8080/",
          "height": 211
        },
        "id": "gqVLAikZBtOb",
        "outputId": "f5680d93-3017-4a1f-f26d-c0c796051c5c"
      },
      "execution_count": 51,
      "outputs": [
        {
          "output_type": "error",
          "ename": "NameError",
          "evalue": "name 'full_train' is not defined",
          "traceback": [
            "\u001b[0;31m---------------------------------------------------------------------------\u001b[0m",
            "\u001b[0;31mNameError\u001b[0m                                 Traceback (most recent call last)",
            "\u001b[0;32m<ipython-input-51-b14d7b040948>\u001b[0m in \u001b[0;36m<cell line: 0>\u001b[0;34m()\u001b[0m\n\u001b[1;32m      3\u001b[0m \u001b[0;34m\u001b[0m\u001b[0m\n\u001b[1;32m      4\u001b[0m \u001b[0;31m# If using ImageFolder\u001b[0m\u001b[0;34m\u001b[0m\u001b[0;34m\u001b[0m\u001b[0m\n\u001b[0;32m----> 5\u001b[0;31m \u001b[0mclass_counts\u001b[0m \u001b[0;34m=\u001b[0m \u001b[0mCounter\u001b[0m\u001b[0;34m(\u001b[0m\u001b[0;34m[\u001b[0m\u001b[0mlbl\u001b[0m \u001b[0;32mfor\u001b[0m \u001b[0m_\u001b[0m\u001b[0;34m,\u001b[0m \u001b[0mlbl\u001b[0m \u001b[0;32min\u001b[0m \u001b[0mfull_train\u001b[0m\u001b[0;34m.\u001b[0m\u001b[0msamples\u001b[0m\u001b[0;34m]\u001b[0m\u001b[0;34m)\u001b[0m\u001b[0;34m\u001b[0m\u001b[0;34m\u001b[0m\u001b[0m\n\u001b[0m\u001b[1;32m      6\u001b[0m \u001b[0midx_to_class\u001b[0m \u001b[0;34m=\u001b[0m \u001b[0;34m{\u001b[0m\u001b[0mv\u001b[0m\u001b[0;34m:\u001b[0m \u001b[0mk\u001b[0m \u001b[0;32mfor\u001b[0m \u001b[0mk\u001b[0m\u001b[0;34m,\u001b[0m \u001b[0mv\u001b[0m \u001b[0;32min\u001b[0m \u001b[0mfull_train\u001b[0m\u001b[0;34m.\u001b[0m\u001b[0mclass_to_idx\u001b[0m\u001b[0;34m.\u001b[0m\u001b[0mitems\u001b[0m\u001b[0;34m(\u001b[0m\u001b[0;34m)\u001b[0m\u001b[0;34m}\u001b[0m\u001b[0;34m\u001b[0m\u001b[0;34m\u001b[0m\u001b[0m\n\u001b[1;32m      7\u001b[0m \u001b[0mlabels\u001b[0m \u001b[0;34m=\u001b[0m \u001b[0;34m[\u001b[0m\u001b[0midx_to_class\u001b[0m\u001b[0;34m[\u001b[0m\u001b[0midx\u001b[0m\u001b[0;34m]\u001b[0m \u001b[0;32mfor\u001b[0m \u001b[0midx\u001b[0m \u001b[0;32min\u001b[0m \u001b[0mclass_counts\u001b[0m\u001b[0;34m.\u001b[0m\u001b[0mkeys\u001b[0m\u001b[0;34m(\u001b[0m\u001b[0;34m)\u001b[0m\u001b[0;34m]\u001b[0m\u001b[0;34m\u001b[0m\u001b[0;34m\u001b[0m\u001b[0m\n",
            "\u001b[0;31mNameError\u001b[0m: name 'full_train' is not defined"
          ]
        }
      ]
    },
    {
      "source": [
        "from collections import Counter\n",
        "import matplotlib.pyplot as plt\n",
        "\n",
        "# If using ImageFolder\n",
        "# Use the correct variable name for the training dataset\n",
        "class_counts = Counter([lbl for _, lbl in train_dataset.dataset.samples])\n",
        "idx_to_class = {v: k for k, v in train_dataset.dataset.class_to_idx.items()}\n",
        "labels = [idx_to_class[idx] for idx in class_counts.keys()]\n",
        "counts = list(class_counts.values())\n",
        "\n",
        "plt.figure(figsize=(10,4))\n",
        "plt.bar(labels, counts)\n",
        "plt.title(\"Class Distribution (Train set)\")\n",
        "plt.xticks(rotation=45)\n",
        "plt.ylabel(\"Image Count\")\n",
        "plt.show()"
      ],
      "cell_type": "code",
      "metadata": {
        "colab": {
          "base_uri": "https://localhost:8080/",
          "height": 474
        },
        "id": "qUzA3KDqB7zY",
        "outputId": "fda5cb8d-929b-46fe-e773-48ecfee6186d"
      },
      "execution_count": 52,
      "outputs": [
        {
          "output_type": "display_data",
          "data": {
            "text/plain": [
              "<Figure size 1000x400 with 1 Axes>"
            ],
            "image/png": "[encoded data removed]"
          },
          "metadata": {}
        }
      ]
    },
    {
      "cell_type": "code",
      "source": [
        "import random\n",
        "import numpy as np\n",
        "\n",
        "n_classes = len(selected_classes)\n",
        "plt.figure(figsize=(15, 2.5 * n_classes))\n",
        "\n",
        "for i, cls in enumerate(selected_classes):\n",
        "    # Get indices of samples with label == this class\n",
        "    class_idx = full_train.class_to_idx[cls]\n",
        "    class_samples = [s[0] for s in full_train.samples if s[1] == class_idx]\n",
        "    # Randomly pick up to 5 images per class\n",
        "    sample_imgs = random.sample(class_samples, min(5, len(class_samples)))\n",
        "    for j, img_path in enumerate(sample_imgs):\n",
        "        img = plt.imread(img_path)\n",
        "        plt.subplot(n_classes, 5, i*5 + j + 1)\n",
        "        plt.imshow(img)\n",
        "        plt.title(cls if j == 0 else \"\")\n",
        "        plt.axis(\"off\")\n",
        "plt.tight_layout()\n",
        "plt.show()\n"
      ],
      "metadata": {
        "colab": {
          "base_uri": "https://localhost:8080/",
          "height": 34
        },
        "id": "cmVrcnYkBxqW",
        "outputId": "fb42853e-c64b-44e7-e4ea-016236fe36a4"
      },
      "execution_count": 53,
      "outputs": [
        {
          "output_type": "display_data",
          "data": {
            "text/plain": [
              "<Figure size 1500x0 with 0 Axes>"
            ]
          },
          "metadata": {}
        }
      ]
    },
    {
      "cell_type": "code",
      "source": [
        "sizes = []\n",
        "for img_path, _ in full_train.samples:\n",
        "    img = plt.imread(img_path)\n",
        "    sizes.append(img.shape[:2])\n",
        "\n",
        "heights = [s[0] for s in sizes]\n",
        "widths  = [s[1] for s in sizes]\n",
        "\n",
        "plt.hist(heights, bins=30, alpha=0.7, label='Heights')\n",
        "plt.hist(widths, bins=30, alpha=0.7, label='Widths')\n",
        "plt.title(\"Distribution of Image Sizes\")\n",
        "plt.legend()\n",
        "plt.show()\n"
      ],
      "metadata": {
        "colab": {
          "base_uri": "https://localhost:8080/",
          "height": 211
        },
        "id": "BfiPQXcfCINU",
        "outputId": "8f5bd7d8-9e58-495a-a756-c1d912081d65"
      },
      "execution_count": 54,
      "outputs": [
        {
          "output_type": "error",
          "ename": "NameError",
          "evalue": "name 'full_train' is not defined",
          "traceback": [
            "\u001b[0;31m---------------------------------------------------------------------------\u001b[0m",
            "\u001b[0;31mNameError\u001b[0m                                 Traceback (most recent call last)",
            "\u001b[0;32m<ipython-input-54-699f8606b1ab>\u001b[0m in \u001b[0;36m<cell line: 0>\u001b[0;34m()\u001b[0m\n\u001b[1;32m      1\u001b[0m \u001b[0msizes\u001b[0m \u001b[0;34m=\u001b[0m \u001b[0;34m[\u001b[0m\u001b[0;34m]\u001b[0m\u001b[0;34m\u001b[0m\u001b[0;34m\u001b[0m\u001b[0m\n\u001b[0;32m----> 2\u001b[0;31m \u001b[0;32mfor\u001b[0m \u001b[0mimg_path\u001b[0m\u001b[0;34m,\u001b[0m \u001b[0m_\u001b[0m \u001b[0;32min\u001b[0m \u001b[0mfull_train\u001b[0m\u001b[0;34m.\u001b[0m\u001b[0msamples\u001b[0m\u001b[0;34m:\u001b[0m\u001b[0;34m\u001b[0m\u001b[0;34m\u001b[0m\u001b[0m\n\u001b[0m\u001b[1;32m      3\u001b[0m     \u001b[0mimg\u001b[0m \u001b[0;34m=\u001b[0m \u001b[0mplt\u001b[0m\u001b[0;34m.\u001b[0m\u001b[0mimread\u001b[0m\u001b[0;34m(\u001b[0m\u001b[0mimg_path\u001b[0m\u001b[0;34m)\u001b[0m\u001b[0;34m\u001b[0m\u001b[0;34m\u001b[0m\u001b[0m\n\u001b[1;32m      4\u001b[0m     \u001b[0msizes\u001b[0m\u001b[0;34m.\u001b[0m\u001b[0mappend\u001b[0m\u001b[0;34m(\u001b[0m\u001b[0mimg\u001b[0m\u001b[0;34m.\u001b[0m\u001b[0mshape\u001b[0m\u001b[0;34m[\u001b[0m\u001b[0;34m:\u001b[0m\u001b[0;36m2\u001b[0m\u001b[0;34m]\u001b[0m\u001b[0;34m)\u001b[0m\u001b[0;34m\u001b[0m\u001b[0;34m\u001b[0m\u001b[0m\n\u001b[1;32m      5\u001b[0m \u001b[0;34m\u001b[0m\u001b[0m\n",
            "\u001b[0;31mNameError\u001b[0m: name 'full_train' is not defined"
          ]
        }
      ]
    }
  ],
  "metadata": {
    "colab": {
      "provenance": [],
      "authorship_tag": "ABX9TyPYwtXxo1yfSHQ/gMmvTnW5",
      "include_colab_link": true
    },
    "kernelspec": {
      "display_name": "Python 3",
      "name": "python3"
    },
    "language_info": {
      "name": "python"
    }
  },
  "nbformat": 4,
  "nbformat_minor": 0
}